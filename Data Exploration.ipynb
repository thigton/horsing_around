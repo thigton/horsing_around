{
 "cells": [
  {
   "cell_type": "markdown",
   "metadata": {},
   "source": [
    "# Data Exploration"
   ]
  },
  {
   "cell_type": "markdown",
   "metadata": {},
   "source": [
    "File loads in the .csv file for the australian horses data from kaggle and plots a few bits to see if there are any interesting insights"
   ]
  },
  {
   "cell_type": "code",
   "execution_count": 1,
   "metadata": {},
   "outputs": [],
   "source": [
    "import pandas as pd\n",
    "import numpy as np\n",
    "import matplotlib.pyplot as plt\n",
    "import seaborn as sns\n",
    "%matplotlib inline"
   ]
  },
  {
   "cell_type": "code",
   "execution_count": 2,
   "metadata": {},
   "outputs": [],
   "source": [
    "# columns to read\n",
    "col = ['position','position_again','position_two','margin','bf_odds','betfair_slope',\n",
    "           'market_id','date','market_name', 'condition','weather','runner_id','barrier','dfs_form_rating',\n",
    "           'tech_form_rating','handicap_weight','last_five_starts','prize_money',\n",
    "           'sex','age','last_twenty_starts','field_strength','days_since_last_run']\n",
    "\n",
    "# Specify dtypes to save memory when reading\n",
    "data_types = {'position' : float,'position_again' : float,'position_two' : float,'margin' : float,\n",
    "              'bf_odds' : float,'betfair_slope' : float, 'market_id' : float, 'date':str,'market_name':str, \n",
    "              'condition' : str,'weather' : str,'runner_id' : float,'barrier' : float,\n",
    "              'dfs_form_rating' : float,'tech_form_rating' : float,'last_five_starts' : str,\n",
    "              'prize_money' : float, 'sex' : str,'age' : float,'last_twenty_starts' : str,\n",
    "              'field_strength' : float,'days_since_last_run' : float, 'handicap_weight' : float}\n"
   ]
  },
  {
   "cell_type": "code",
   "execution_count": 3,
   "metadata": {},
   "outputs": [],
   "source": [
    "horses = pd.read_csv('input/horses.csv',sep = ',', usecols = col, \n",
    "                     index_col = 'market_id', dtype = data_types)"
   ]
  },
  {
   "cell_type": "code",
   "execution_count": 4,
   "metadata": {},
   "outputs": [
    {
     "data": {
      "text/html": [
       "<div>\n",
       "<style scoped>\n",
       "    .dataframe tbody tr th:only-of-type {\n",
       "        vertical-align: middle;\n",
       "    }\n",
       "\n",
       "    .dataframe tbody tr th {\n",
       "        vertical-align: top;\n",
       "    }\n",
       "\n",
       "    .dataframe thead th {\n",
       "        text-align: right;\n",
       "    }\n",
       "</style>\n",
       "<table border=\"1\" class=\"dataframe\">\n",
       "  <thead>\n",
       "    <tr style=\"text-align: right;\">\n",
       "      <th></th>\n",
       "      <th>position</th>\n",
       "      <th>position_again</th>\n",
       "      <th>position_two</th>\n",
       "      <th>margin</th>\n",
       "      <th>bf_odds</th>\n",
       "      <th>betfair_slope</th>\n",
       "      <th>date</th>\n",
       "      <th>market_name</th>\n",
       "      <th>condition</th>\n",
       "      <th>weather</th>\n",
       "      <th>...</th>\n",
       "      <th>dfs_form_rating</th>\n",
       "      <th>tech_form_rating</th>\n",
       "      <th>handicap_weight</th>\n",
       "      <th>last_five_starts</th>\n",
       "      <th>prize_money</th>\n",
       "      <th>sex</th>\n",
       "      <th>age</th>\n",
       "      <th>last_twenty_starts</th>\n",
       "      <th>field_strength</th>\n",
       "      <th>days_since_last_run</th>\n",
       "    </tr>\n",
       "    <tr>\n",
       "      <th>market_id</th>\n",
       "      <th></th>\n",
       "      <th></th>\n",
       "      <th></th>\n",
       "      <th></th>\n",
       "      <th></th>\n",
       "      <th></th>\n",
       "      <th></th>\n",
       "      <th></th>\n",
       "      <th></th>\n",
       "      <th></th>\n",
       "      <th></th>\n",
       "      <th></th>\n",
       "      <th></th>\n",
       "      <th></th>\n",
       "      <th></th>\n",
       "      <th></th>\n",
       "      <th></th>\n",
       "      <th></th>\n",
       "      <th></th>\n",
       "      <th></th>\n",
       "      <th></th>\n",
       "    </tr>\n",
       "  </thead>\n",
       "  <tbody>\n",
       "    <tr>\n",
       "      <th>1.0</th>\n",
       "      <td>1.0</td>\n",
       "      <td>1.0</td>\n",
       "      <td>1.0</td>\n",
       "      <td>0.0</td>\n",
       "      <td>2.88</td>\n",
       "      <td>-0.001514</td>\n",
       "      <td>2016-06-27</td>\n",
       "      <td>R3 1200m Mdn</td>\n",
       "      <td>HVY9</td>\n",
       "      <td>FINE</td>\n",
       "      <td>...</td>\n",
       "      <td>97.0</td>\n",
       "      <td>97.0</td>\n",
       "      <td>58.5</td>\n",
       "      <td>f3</td>\n",
       "      <td>2160.0</td>\n",
       "      <td>Gelding</td>\n",
       "      <td>3.0</td>\n",
       "      <td>f3</td>\n",
       "      <td>-1.5</td>\n",
       "      <td>14.0</td>\n",
       "    </tr>\n",
       "    <tr>\n",
       "      <th>1.0</th>\n",
       "      <td>0.0</td>\n",
       "      <td>2.0</td>\n",
       "      <td>2.0</td>\n",
       "      <td>NaN</td>\n",
       "      <td>15.00</td>\n",
       "      <td>-0.000805</td>\n",
       "      <td>2016-06-27</td>\n",
       "      <td>R3 1200m Mdn</td>\n",
       "      <td>HVY9</td>\n",
       "      <td>FINE</td>\n",
       "      <td>...</td>\n",
       "      <td>82.0</td>\n",
       "      <td>82.0</td>\n",
       "      <td>58.5</td>\n",
       "      <td>x80x2</td>\n",
       "      <td>21175.0</td>\n",
       "      <td>Gelding</td>\n",
       "      <td>5.0</td>\n",
       "      <td>f0x6x80x2</td>\n",
       "      <td>-2.0</td>\n",
       "      <td>39.0</td>\n",
       "    </tr>\n",
       "    <tr>\n",
       "      <th>1.0</th>\n",
       "      <td>0.0</td>\n",
       "      <td>3.0</td>\n",
       "      <td>3.0</td>\n",
       "      <td>NaN</td>\n",
       "      <td>95.00</td>\n",
       "      <td>0.209409</td>\n",
       "      <td>2016-06-27</td>\n",
       "      <td>R3 1200m Mdn</td>\n",
       "      <td>HVY9</td>\n",
       "      <td>FINE</td>\n",
       "      <td>...</td>\n",
       "      <td>62.0</td>\n",
       "      <td>62.0</td>\n",
       "      <td>56.5</td>\n",
       "      <td>79x00</td>\n",
       "      <td>28855.0</td>\n",
       "      <td>Mare</td>\n",
       "      <td>6.0</td>\n",
       "      <td>f68477579x00</td>\n",
       "      <td>-1.5</td>\n",
       "      <td>15.0</td>\n",
       "    </tr>\n",
       "    <tr>\n",
       "      <th>1.0</th>\n",
       "      <td>0.0</td>\n",
       "      <td>NaN</td>\n",
       "      <td>4.0</td>\n",
       "      <td>NaN</td>\n",
       "      <td>20.00</td>\n",
       "      <td>0.014119</td>\n",
       "      <td>2016-06-27</td>\n",
       "      <td>R3 1200m Mdn</td>\n",
       "      <td>HVY9</td>\n",
       "      <td>FINE</td>\n",
       "      <td>...</td>\n",
       "      <td>71.0</td>\n",
       "      <td>71.0</td>\n",
       "      <td>56.5</td>\n",
       "      <td>f0</td>\n",
       "      <td>1475.0</td>\n",
       "      <td>Filly</td>\n",
       "      <td>3.0</td>\n",
       "      <td>f0</td>\n",
       "      <td>NaN</td>\n",
       "      <td>15.0</td>\n",
       "    </tr>\n",
       "    <tr>\n",
       "      <th>1.0</th>\n",
       "      <td>0.0</td>\n",
       "      <td>NaN</td>\n",
       "      <td>5.0</td>\n",
       "      <td>NaN</td>\n",
       "      <td>2.74</td>\n",
       "      <td>0.000521</td>\n",
       "      <td>2016-06-27</td>\n",
       "      <td>R3 1200m Mdn</td>\n",
       "      <td>HVY9</td>\n",
       "      <td>FINE</td>\n",
       "      <td>...</td>\n",
       "      <td>91.0</td>\n",
       "      <td>91.0</td>\n",
       "      <td>56.5</td>\n",
       "      <td>f4x</td>\n",
       "      <td>1215.0</td>\n",
       "      <td>Filly</td>\n",
       "      <td>3.0</td>\n",
       "      <td>f4x</td>\n",
       "      <td>-3.5</td>\n",
       "      <td>173.0</td>\n",
       "    </tr>\n",
       "  </tbody>\n",
       "</table>\n",
       "<p>5 rows × 22 columns</p>\n",
       "</div>"
      ],
      "text/plain": [
       "           position  position_again  position_two  margin  bf_odds  \\\n",
       "market_id                                                            \n",
       "1.0             1.0             1.0           1.0     0.0     2.88   \n",
       "1.0             0.0             2.0           2.0     NaN    15.00   \n",
       "1.0             0.0             3.0           3.0     NaN    95.00   \n",
       "1.0             0.0             NaN           4.0     NaN    20.00   \n",
       "1.0             0.0             NaN           5.0     NaN     2.74   \n",
       "\n",
       "           betfair_slope        date   market_name condition weather  \\\n",
       "market_id                                                              \n",
       "1.0            -0.001514  2016-06-27  R3 1200m Mdn      HVY9    FINE   \n",
       "1.0            -0.000805  2016-06-27  R3 1200m Mdn      HVY9    FINE   \n",
       "1.0             0.209409  2016-06-27  R3 1200m Mdn      HVY9    FINE   \n",
       "1.0             0.014119  2016-06-27  R3 1200m Mdn      HVY9    FINE   \n",
       "1.0             0.000521  2016-06-27  R3 1200m Mdn      HVY9    FINE   \n",
       "\n",
       "                  ...          dfs_form_rating  tech_form_rating  \\\n",
       "market_id         ...                                              \n",
       "1.0               ...                     97.0              97.0   \n",
       "1.0               ...                     82.0              82.0   \n",
       "1.0               ...                     62.0              62.0   \n",
       "1.0               ...                     71.0              71.0   \n",
       "1.0               ...                     91.0              91.0   \n",
       "\n",
       "           handicap_weight  last_five_starts  prize_money      sex  age  \\\n",
       "market_id                                                                 \n",
       "1.0                   58.5                f3       2160.0  Gelding  3.0   \n",
       "1.0                   58.5             x80x2      21175.0  Gelding  5.0   \n",
       "1.0                   56.5             79x00      28855.0     Mare  6.0   \n",
       "1.0                   56.5                f0       1475.0    Filly  3.0   \n",
       "1.0                   56.5               f4x       1215.0    Filly  3.0   \n",
       "\n",
       "          last_twenty_starts  field_strength days_since_last_run  \n",
       "market_id                                                         \n",
       "1.0                       f3            -1.5                14.0  \n",
       "1.0                f0x6x80x2            -2.0                39.0  \n",
       "1.0             f68477579x00            -1.5                15.0  \n",
       "1.0                       f0             NaN                15.0  \n",
       "1.0                      f4x            -3.5               173.0  \n",
       "\n",
       "[5 rows x 22 columns]"
      ]
     },
     "execution_count": 4,
     "metadata": {},
     "output_type": "execute_result"
    }
   ],
   "source": [
    "horses.head()"
   ]
  },
  {
   "cell_type": "code",
   "execution_count": 5,
   "metadata": {},
   "outputs": [
    {
     "name": "stdout",
     "output_type": "stream",
     "text": [
      "<class 'pandas.core.frame.DataFrame'>\n",
      "Float64Index: 221680 entries, 1.0 to 34587.0\n",
      "Data columns (total 22 columns):\n",
      "position               221680 non-null float64\n",
      "position_again         63219 non-null float64\n",
      "position_two           217162 non-null float64\n",
      "margin                 153742 non-null float64\n",
      "bf_odds                221680 non-null float64\n",
      "betfair_slope          221619 non-null float64\n",
      "date                   221680 non-null object\n",
      "market_name            221680 non-null object\n",
      "condition              199492 non-null object\n",
      "weather                199571 non-null object\n",
      "runner_id              221680 non-null float64\n",
      "barrier                195391 non-null float64\n",
      "dfs_form_rating        195381 non-null float64\n",
      "tech_form_rating       195391 non-null float64\n",
      "handicap_weight        195391 non-null float64\n",
      "last_five_starts       184731 non-null object\n",
      "prize_money            194889 non-null float64\n",
      "sex                    194889 non-null object\n",
      "age                    194889 non-null float64\n",
      "last_twenty_starts     184036 non-null object\n",
      "field_strength         193842 non-null float64\n",
      "days_since_last_run    194638 non-null float64\n",
      "dtypes: float64(15), object(7)\n",
      "memory usage: 38.9+ MB\n"
     ]
    }
   ],
   "source": [
    "horses.info()"
   ]
  },
  {
   "cell_type": "code",
   "execution_count": 6,
   "metadata": {},
   "outputs": [],
   "source": [
    "# get the months as a separate column...might be useful\n",
    "horses['date'] = pd.to_datetime(horses['date'], format = '%Y-%m-%d')\n",
    "\n",
    "horses['month'] = pd.DatetimeIndex(horses['date']).month"
   ]
  },
  {
   "cell_type": "code",
   "execution_count": 7,
   "metadata": {},
   "outputs": [
    {
     "data": {
      "text/plain": [
       "array(['HVY9', 'HVY10', 'GOOD4', 'HVY8', 'AWT', 'SOFT6', 'SOFT5', 'SOFT7',\n",
       "       'GOOD', 'GOOD3', nan, 'FIRM2', 'HEAVY'], dtype=object)"
      ]
     },
     "execution_count": 7,
     "metadata": {},
     "output_type": "execute_result"
    }
   ],
   "source": [
    "# The going\n",
    "horses['condition'].unique()"
   ]
  },
  {
   "cell_type": "code",
   "execution_count": 8,
   "metadata": {},
   "outputs": [
    {
     "data": {
      "text/plain": [
       "array(['FINE', 'OCAST', 'SHWRY', nan], dtype=object)"
      ]
     },
     "execution_count": 8,
     "metadata": {},
     "output_type": "execute_result"
    }
   ],
   "source": [
    "#weather\n",
    "horses['weather'].unique()"
   ]
  },
  {
   "cell_type": "code",
   "execution_count": 9,
   "metadata": {},
   "outputs": [],
   "source": [
    "#market_name\n",
    "len(horses['market_name'].unique())\n",
    "\n",
    "names = ['race_no','distance','race_type']\n",
    "for i, name in enumerate(names):\n",
    "    horses[name] = horses['market_name'].apply(lambda x : x.split()[i])\n",
    "\n",
    "horses['distance'] = horses['distance'].str.slice(0,-1).astype('float32')"
   ]
  },
  {
   "cell_type": "code",
   "execution_count": 10,
   "metadata": {},
   "outputs": [
    {
     "data": {
      "text/plain": [
       "array(['Mdn', '2yo', '3yo', 'Hcap', 'CL1', 'CL2', 'CL3', 'CL5', 'WFA',\n",
       "       'Listed', 'Grp3', 'Cup', 'Hrd', 'Stpl', 'Qlty', 'CL6', 'CL4',\n",
       "       'Grp2', 'Qtly', 'Grp1', 'Hcp', '4yo'], dtype=object)"
      ]
     },
     "execution_count": 10,
     "metadata": {},
     "output_type": "execute_result"
    }
   ],
   "source": [
    "horses['race_type'].unique()"
   ]
  },
  {
   "cell_type": "code",
   "execution_count": null,
   "metadata": {},
   "outputs": [],
   "source": []
  },
  {
   "cell_type": "code",
   "execution_count": 11,
   "metadata": {},
   "outputs": [
    {
     "data": {
      "image/png": "[encoded data removed]",
      "text/plain": [
       "<Figure size 1152x720 with 3 Axes>"
      ]
     },
     "metadata": {
      "needs_background": "light"
     },
     "output_type": "display_data"
    }
   ],
   "source": [
    "plt.figure(figsize = (16,10))\n",
    "ax1 = plt.subplot2grid((2, 2), (0, 0), colspan=1)\n",
    "ax2 = plt.subplot2grid((2, 2), (0, 1), colspan=1)\n",
    "ax3 = plt.subplot2grid((2, 2), (1, 0), colspan=2)\n",
    "ax1.bar(horses['race_no'].unique(), horses['race_no'].value_counts())\n",
    "ax1.set_xlabel('Race number of the day')\n",
    "ax1.set_ylabel('Frequency')\n",
    "ax2.hist(horses['distance'],bins = 25)\n",
    "ax2.set_xlabel('Race Distance (m)')\n",
    "ax3.bar(horses['race_type'].unique(), horses['race_type'].value_counts())\n",
    "ax3.set_xlabel('Race types')\n",
    "plt.tight_layout()"
   ]
  },
  {
   "cell_type": "markdown",
   "metadata": {},
   "source": [
    "Odd that there isn't much data on the very first race of the day"
   ]
  },
  {
   "cell_type": "code",
   "execution_count": null,
   "metadata": {},
   "outputs": [],
   "source": []
  },
  {
   "cell_type": "code",
   "execution_count": 12,
   "metadata": {},
   "outputs": [
    {
     "data": {
      "text/plain": [
       "<matplotlib.axes._subplots.AxesSubplot at 0x1a23af9b00>"
      ]
     },
     "execution_count": 12,
     "metadata": {},
     "output_type": "execute_result"
    },
    {
     "data": {
      "image/png": "[encoded data removed]",
      "text/plain": [
       "<Figure size 1152x1152 with 1 Axes>"
      ]
     },
     "metadata": {
      "needs_background": "light"
     },
     "output_type": "display_data"
    }
   ],
   "source": [
    "# Plot to see where the null values are\n",
    "plt.figure(figsize = (16,16))\n",
    "sns.heatmap(data = horses.isnull(), yticklabels = False, cbar = False,linewidths = 0, cmap = 'viridis')\n"
   ]
  },
  {
   "cell_type": "markdown",
   "metadata": {},
   "source": [
    "Yellow = Missing Data <br>\n",
    "comments: <br>\n",
    "position_again -  data entered is just those horses which places so can fill in the rest with 0<br>\n",
    "position_two - exact position - shouldn't be any missing - amount missing is minimal<br>\n",
    "margin - 30 % of dataset missing - this is a bit annoying as would potentially be a good feature<br>\n",
    "some entries just don't have much data on them so I'll drop them.<br>\n",
    "\n",
    "THIS IS GENERALLY REPRESENTATIVE OF THE WHOLE DATASET, I'VE JUST LOADED A SUBSET DUE TO MEMORY ISSUES"
   ]
  },
  {
   "cell_type": "code",
   "execution_count": 13,
   "metadata": {},
   "outputs": [
    {
     "name": "stdout",
     "output_type": "stream",
     "text": [
      "Number of races with a runner missing barrier data: 45\n",
      "Total number of horses in races where some horses dont have barrier info: 453\n",
      "Percentage of runners in those races which have barrier data:     74.61%\n"
     ]
    }
   ],
   "source": [
    "# # code for comparing whether data is missing for an entire race or just a couple of runners.\n",
    "x_over = list(set(horses[horses['barrier'].isnull()].index) & \n",
    "              set(horses.dropna(subset = ['barrier']).index) )# market ids which have runners \n",
    "                                                                #with and without barrier data\n",
    "print('Number of races with a runner missing barrier data: ' + str(len(x_over)))\n",
    "print('Total number of horses in races where some horses don''t have barrier info: ' +\n",
    "      str(horses.loc[x_over].shape[0]))\n",
    "print('Percentage of runners in those races which have barrier data:{:10.2f}%'\n",
    "      .format(horses.dropna(subset = ['barrier']).loc[x_over].shape[0]/ horses.loc[x_over].shape[0] *100))\n",
    "\n"
   ]
  },
  {
   "cell_type": "code",
   "execution_count": 14,
   "metadata": {},
   "outputs": [],
   "source": [
    "# Decided to drop all missing data and have partial data for a race.  \n",
    "# Think this is valid, but depends on if any of those with missing data, won/placed\n",
    "horses.dropna(subset = ['barrier'], inplace = True)\n"
   ]
  },
  {
   "cell_type": "code",
   "execution_count": 15,
   "metadata": {},
   "outputs": [],
   "source": [
    "number_of_races = len(horses.index.unique())"
   ]
  },
  {
   "cell_type": "code",
   "execution_count": 16,
   "metadata": {},
   "outputs": [],
   "source": [
    "# position_again = horses which placed\n",
    "horses['position_again'].fillna(value = 0, inplace = True)"
   ]
  },
  {
   "cell_type": "markdown",
   "metadata": {},
   "source": [
    "### That's tidy enough for now.  Lets plot some graphs "
   ]
  },
  {
   "cell_type": "code",
   "execution_count": 17,
   "metadata": {},
   "outputs": [],
   "source": [
    "sns.set_style('darkgrid')"
   ]
  },
  {
   "cell_type": "code",
   "execution_count": 18,
   "metadata": {},
   "outputs": [
    {
     "data": {
      "text/html": [
       "<div>\n",
       "<style scoped>\n",
       "    .dataframe tbody tr th:only-of-type {\n",
       "        vertical-align: middle;\n",
       "    }\n",
       "\n",
       "    .dataframe tbody tr th {\n",
       "        vertical-align: top;\n",
       "    }\n",
       "\n",
       "    .dataframe thead th {\n",
       "        text-align: right;\n",
       "    }\n",
       "</style>\n",
       "<table border=\"1\" class=\"dataframe\">\n",
       "  <thead>\n",
       "    <tr style=\"text-align: right;\">\n",
       "      <th></th>\n",
       "      <th>position</th>\n",
       "      <th>position_again</th>\n",
       "      <th>position_two</th>\n",
       "      <th>margin</th>\n",
       "      <th>bf_odds</th>\n",
       "      <th>betfair_slope</th>\n",
       "      <th>date</th>\n",
       "      <th>market_name</th>\n",
       "      <th>condition</th>\n",
       "      <th>weather</th>\n",
       "      <th>...</th>\n",
       "      <th>prize_money</th>\n",
       "      <th>sex</th>\n",
       "      <th>age</th>\n",
       "      <th>last_twenty_starts</th>\n",
       "      <th>field_strength</th>\n",
       "      <th>days_since_last_run</th>\n",
       "      <th>month</th>\n",
       "      <th>race_no</th>\n",
       "      <th>distance</th>\n",
       "      <th>race_type</th>\n",
       "    </tr>\n",
       "    <tr>\n",
       "      <th>market_id</th>\n",
       "      <th></th>\n",
       "      <th></th>\n",
       "      <th></th>\n",
       "      <th></th>\n",
       "      <th></th>\n",
       "      <th></th>\n",
       "      <th></th>\n",
       "      <th></th>\n",
       "      <th></th>\n",
       "      <th></th>\n",
       "      <th></th>\n",
       "      <th></th>\n",
       "      <th></th>\n",
       "      <th></th>\n",
       "      <th></th>\n",
       "      <th></th>\n",
       "      <th></th>\n",
       "      <th></th>\n",
       "      <th></th>\n",
       "      <th></th>\n",
       "      <th></th>\n",
       "    </tr>\n",
       "  </thead>\n",
       "  <tbody>\n",
       "    <tr>\n",
       "      <th>1.0</th>\n",
       "      <td>1.0</td>\n",
       "      <td>1.0</td>\n",
       "      <td>1.0</td>\n",
       "      <td>0.0</td>\n",
       "      <td>2.88</td>\n",
       "      <td>-0.001514</td>\n",
       "      <td>2016-06-27</td>\n",
       "      <td>R3 1200m Mdn</td>\n",
       "      <td>HVY9</td>\n",
       "      <td>FINE</td>\n",
       "      <td>...</td>\n",
       "      <td>2160.0</td>\n",
       "      <td>Gelding</td>\n",
       "      <td>3.0</td>\n",
       "      <td>f3</td>\n",
       "      <td>-1.5</td>\n",
       "      <td>14.0</td>\n",
       "      <td>6</td>\n",
       "      <td>R3</td>\n",
       "      <td>1200.0</td>\n",
       "      <td>Mdn</td>\n",
       "    </tr>\n",
       "    <tr>\n",
       "      <th>1.0</th>\n",
       "      <td>0.0</td>\n",
       "      <td>2.0</td>\n",
       "      <td>2.0</td>\n",
       "      <td>NaN</td>\n",
       "      <td>15.00</td>\n",
       "      <td>-0.000805</td>\n",
       "      <td>2016-06-27</td>\n",
       "      <td>R3 1200m Mdn</td>\n",
       "      <td>HVY9</td>\n",
       "      <td>FINE</td>\n",
       "      <td>...</td>\n",
       "      <td>21175.0</td>\n",
       "      <td>Gelding</td>\n",
       "      <td>5.0</td>\n",
       "      <td>f0x6x80x2</td>\n",
       "      <td>-2.0</td>\n",
       "      <td>39.0</td>\n",
       "      <td>6</td>\n",
       "      <td>R3</td>\n",
       "      <td>1200.0</td>\n",
       "      <td>Mdn</td>\n",
       "    </tr>\n",
       "  </tbody>\n",
       "</table>\n",
       "<p>2 rows × 26 columns</p>\n",
       "</div>"
      ],
      "text/plain": [
       "           position  position_again  position_two  margin  bf_odds  \\\n",
       "market_id                                                            \n",
       "1.0             1.0             1.0           1.0     0.0     2.88   \n",
       "1.0             0.0             2.0           2.0     NaN    15.00   \n",
       "\n",
       "           betfair_slope       date   market_name condition weather    ...     \\\n",
       "market_id                                                              ...      \n",
       "1.0            -0.001514 2016-06-27  R3 1200m Mdn      HVY9    FINE    ...      \n",
       "1.0            -0.000805 2016-06-27  R3 1200m Mdn      HVY9    FINE    ...      \n",
       "\n",
       "           prize_money      sex  age  last_twenty_starts  field_strength  \\\n",
       "market_id                                                                  \n",
       "1.0             2160.0  Gelding  3.0                  f3            -1.5   \n",
       "1.0            21175.0  Gelding  5.0           f0x6x80x2            -2.0   \n",
       "\n",
       "          days_since_last_run  month race_no  distance race_type  \n",
       "market_id                                                         \n",
       "1.0                      14.0      6      R3    1200.0       Mdn  \n",
       "1.0                      39.0      6      R3    1200.0       Mdn  \n",
       "\n",
       "[2 rows x 26 columns]"
      ]
     },
     "execution_count": 18,
     "metadata": {},
     "output_type": "execute_result"
    }
   ],
   "source": [
    "horses.head(2)"
   ]
  },
  {
   "cell_type": "code",
   "execution_count": null,
   "metadata": {},
   "outputs": [],
   "source": [
    "\n"
   ]
  },
  {
   "cell_type": "code",
   "execution_count": 69,
   "metadata": {},
   "outputs": [],
   "source": [
    "win_per_handicap = horses[(horses['position'] == 1.0)].groupby('handicap_weight').count()['position'] \n",
    "horse_per_handicap = horses.groupby('handicap_weight').count()['position']\n",
    "percent_win_per_handicap = win_per_handicap / horse_per_handicap\n",
    "percent_win_per_handicap.fillna(0, inplace = True)"
   ]
  },
  {
   "cell_type": "code",
   "execution_count": 75,
   "metadata": {},
   "outputs": [
    {
     "data": {
      "text/plain": [
       "Text(0, 0.5, 'Frequency')"
      ]
     },
     "execution_count": 75,
     "metadata": {},
     "output_type": "execute_result"
    },
    {
     "data": {
      "image/png": "[encoded data removed]",
      "text/plain": [
       "<Figure size 864x576 with 1 Axes>"
      ]
     },
     "metadata": {},
     "output_type": "display_data"
    }
   ],
   "source": [
    "plt.figure(figsize = (12,8))\n",
    "plt.plot(horse_per_handicap.index, horse_per_handicap)\n",
    "plt.xlim([50,70])\n",
    "plt.xlabel('Handicap Weights')\n",
    "plt.ylabel('Frequency')"
   ]
  },
  {
   "cell_type": "markdown",
   "metadata": {},
   "source": [
    "Majority of the horses sit between 52.5 and 62.5 kg"
   ]
  },
  {
   "cell_type": "code",
   "execution_count": 81,
   "metadata": {},
   "outputs": [
    {
     "data": {
      "text/plain": [
       "Text(0, 0.5, 'Percentage in weight class which won their race')"
      ]
     },
     "execution_count": 81,
     "metadata": {},
     "output_type": "execute_result"
    },
    {
     "data": {
      "image/png": "[encoded data removed]",
      "text/plain": [
       "<Figure size 864x576 with 1 Axes>"
      ]
     },
     "metadata": {},
     "output_type": "display_data"
    }
   ],
   "source": [
    "fig, ax1 = plt.subplots(figsize = (12,8))\n",
    "ax1.scatter(percent_win_per_handicap.index, percent_win_per_handicap)\n",
    "ax1.set_xlim(52.5,62.5)\n",
    "ax1.set_ylim(0,0.3)\n",
    "ax1.set_xlabel('Handicap Weight')\n",
    "ax1.set_ylabel('Percentage in weight class which won their race')"
   ]
  },
  {
   "cell_type": "markdown",
   "metadata": {},
   "source": [
    "There is a trend.  It seems the heavier the horses the more likely to win"
   ]
  },
  {
   "cell_type": "code",
   "execution_count": null,
   "metadata": {},
   "outputs": [],
   "source": []
  },
  {
   "cell_type": "code",
   "execution_count": null,
   "metadata": {},
   "outputs": [],
   "source": []
  },
  {
   "cell_type": "code",
   "execution_count": null,
   "metadata": {},
   "outputs": [],
   "source": []
  },
  {
   "cell_type": "code",
   "execution_count": null,
   "metadata": {},
   "outputs": [],
   "source": []
  },
  {
   "cell_type": "code",
   "execution_count": null,
   "metadata": {},
   "outputs": [],
   "source": []
  },
  {
   "cell_type": "code",
   "execution_count": null,
   "metadata": {},
   "outputs": [],
   "source": []
  },
  {
   "cell_type": "code",
   "execution_count": null,
   "metadata": {},
   "outputs": [],
   "source": []
  },
  {
   "cell_type": "code",
   "execution_count": null,
   "metadata": {},
   "outputs": [],
   "source": []
  },
  {
   "cell_type": "code",
   "execution_count": null,
   "metadata": {},
   "outputs": [],
   "source": []
  }
 ],
 "metadata": {
  "kernelspec": {
   "display_name": "Python 3",
   "language": "python",
   "name": "python3"
  },
  "language_info": {
   "codemirror_mode": {
    "name": "ipython",
    "version": 3
   },
   "file_extension": ".py",
   "mimetype": "text/x-python",
   "name": "python",
   "nbconvert_exporter": "python",
   "pygments_lexer": "ipython3",
   "version": "3.6.7"
  }
 },
 "nbformat": 4,
 "nbformat_minor": 2
}
