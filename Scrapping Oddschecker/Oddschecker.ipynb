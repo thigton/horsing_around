{
 "cells": [
  {
   "cell_type": "markdown",
   "metadata": {},
   "source": [
    "# This Notebook is superseded by the series of .py files"
   ]
  },
  {
   "cell_type": "code",
   "execution_count": 58,
   "metadata": {},
   "outputs": [],
   "source": [
    "import pandas as pd\n",
    "import numpy as np\n",
    "from urllib.request import Request, urlopen\n",
    "from bs4 import BeautifulSoup as soup\n",
    "import string\n",
    "import itertools\n",
    "from datetime import datetime, timedelta\n",
    "import operator"
   ]
  },
  {
   "cell_type": "code",
   "execution_count": 59,
   "metadata": {},
   "outputs": [],
   "source": [
    "url = 'https://www.oddschecker.com/'"
   ]
  },
  {
   "cell_type": "code",
   "execution_count": null,
   "metadata": {},
   "outputs": [],
   "source": []
  },
  {
   "cell_type": "code",
   "execution_count": 60,
   "metadata": {},
   "outputs": [],
   "source": [
    "country_code = ['UK','IRE','USA','AUS']"
   ]
  },
  {
   "cell_type": "code",
   "execution_count": 61,
   "metadata": {},
   "outputs": [],
   "source": [
    "def get_soup(base_url, sport = 'horses', event_url = None):\n",
    "    '''Uses beautiful soup to get parse the url\n",
    "    base_url = str, www.oddschecker.com/\n",
    "    sport = str, which sport do you want to look at\n",
    "    event_url = str, of the url extension which will take you to the '''\n",
    "    \n",
    "    if sport == 'horses':\n",
    "        sport = 'horse-racing'\n",
    "    \n",
    "    url = base_url + sport\n",
    "    if event_url != None:\n",
    "        url += event_url\n",
    "    \n",
    "    req = Request(url , headers={'User-Agent': 'Mozilla/5.0'})\n",
    "    webpage = urlopen(req).read()\n",
    "    return soup(webpage, \"html.parser\")\n",
    "    "
   ]
  },
  {
   "cell_type": "code",
   "execution_count": 62,
   "metadata": {},
   "outputs": [],
   "source": [
    "page_soup = get_soup(url)\n"
   ]
  },
  {
   "cell_type": "code",
   "execution_count": 63,
   "metadata": {},
   "outputs": [
    {
     "name": "stdout",
     "output_type": "stream",
     "text": [
      "<class 'bs4.BeautifulSoup'>\n"
     ]
    }
   ],
   "source": [
    "print(type(page_soup))"
   ]
  },
  {
   "cell_type": "code",
   "execution_count": 64,
   "metadata": {},
   "outputs": [],
   "source": [
    "def get_races(bsoup, country_codes, sport = 'horses'):\n",
    "    '''Will return a dictionary of the events displayed on www.oddschecker.com\n",
    "        Only does horse_racing atm.\n",
    "        dict structure = events[countrycode][venue][list of event times]\n",
    "        bsoup = the page parse with beautifulsoup4\n",
    "        country_codes = countries you want to get events for\n",
    "        sport = the sport you want''' \n",
    "    \n",
    "    events = {code:{} for code in country_codes}\n",
    "    \n",
    "    # website has both todays and tomorrows races on it.  Need to only get todays races\n",
    "    # this returns two objects as UK and International races are in different sections\n",
    "    today  = bsoup.findAll('div', {'data-day' : 'today'}) \n",
    "\n",
    "    for i in range(len(today)):\n",
    "        result = today[i].findAll('div', {'class' : 'race-details'})\n",
    "        containers = result if i == 0  else containers + result\n",
    "    \n",
    "    \n",
    "    for container in containers:\n",
    "        txt = container.find('div', {'class' : 'venue-details'}).text\n",
    "        \n",
    "        for code in country_codes:\n",
    "            # extract country code and venue\n",
    "            if code in txt[:3]:\n",
    "                cc = code\n",
    "                venue = txt.replace(code, '')\n",
    "                break\n",
    "                \n",
    "        # get event times \n",
    "        events[cc][venue] = {} # dictionary for event times\n",
    "        times = [x.text for x in container.findAll('div', {'class' : 'racing-time'})]\n",
    "        for t in times:\n",
    "            # convert to datetime\n",
    "            d_time_now = datetime.combine(datetime.today(),datetime.strptime(t, '%H:%M').time()) \n",
    "            # have a datetime 5 hours before the race as a marker to start collecting data\n",
    "            start_data_collection = d_time_now - timedelta(hours=5) \n",
    "#             print(f'd_time_now = {d_time_now} , start_data_collection = {start_data_collection}')\n",
    "            \n",
    "            events[cc][venue][t] = start_data_collection\n",
    "\n",
    "        \n",
    "        \n",
    "    return events\n"
   ]
  },
  {
   "cell_type": "code",
   "execution_count": 65,
   "metadata": {},
   "outputs": [],
   "source": [
    "events = get_races(page_soup, country_code)"
   ]
  },
  {
   "cell_type": "code",
   "execution_count": null,
   "metadata": {},
   "outputs": [],
   "source": []
  },
  {
   "cell_type": "code",
   "execution_count": 109,
   "metadata": {},
   "outputs": [],
   "source": [
    "class race():\n",
    "    def __init__(self,base_url, sport, cc, venue, time):\n",
    "        '''have a race as a class which we can add horse classes to.'''\n",
    "        self.url  = base_url\n",
    "        self.sport = sport\n",
    "        self.cc = cc\n",
    "        self.venue = venue\n",
    "        self.time = time\n",
    "        # this returns that the day is 1/1/1990 need to make it today\n",
    "        self.datetime = datetime.combine(datetime.today(),datetime.strptime(self.time, '%H:%M').time())\n",
    "        print(self.venue)\n",
    "        print(self.time)\n",
    "        \n",
    "        self.url_ext = '/' + self.venue.replace(' ','-') + '/' + self.time + '/' + 'winner'\n",
    "        # soup the url\n",
    "        soup = get_soup(self.url, self.sport, event_url = self.url_ext)\n",
    "        \n",
    "        # Get race data in a dictionary.  THIS METHOD DOES\"T MATCH UP THE TITLE OF THE TYPE TO THE VALUES\n",
    "        race_info_container = soup.find('div', {'class':'content-right'}).findAll('li')\n",
    "        self.race_info = {x.text.split(':')[0] : x.text.split(':')[1] for x in race_info_container}\n",
    "        \n",
    "        # These containers are the rows in the table on the url\n",
    "        containers = soup.findAll('tr', {'class' : 'diff-row evTabRow bc'})\n",
    "        # init horse class\n",
    "        self.horses = [horse(container) for container in containers]\n",
    "        self.rank_horses()\n",
    "        \n",
    "    def __str__(self):\n",
    "        return f'{self.venue}, {self.cc} at {self.time}'\n",
    "        \n",
    "    def get_current_odds(self):\n",
    "        '''Will update the odds in the horses class'''\n",
    "        # soup the url\n",
    "        soup = get_soup(base_url = self.url, sport = self.sport, event_url = self.url_ext)\n",
    "        \n",
    "        for horse in self.horses:\n",
    "            #this should find the row for the horse we want\n",
    "            container = soup.findAll('tr', {'data-bname': horse.name}) \n",
    "            if len(container) != 1 :\n",
    "                return 'Error - more than one row with horse name found - fix the bug'\n",
    "            horse.update_odds(container[0])\n",
    "        \n",
    "    def rank_horses(self):\n",
    "        '''Orders the horses based on the value of their latest odds to find the favourite.'''\n",
    "        win_prob = [(h.name , h.latest_prob.values[0]) for h in self.horses]\n",
    "        win_prob.sort(key=operator.itemgetter(1), reverse = True)\n",
    "        # This just orders the horse objects in the list, need to assign ranks to the horse (with time stamp)\n",
    "        # And to some object associated with the race?\n",
    "\n"
   ]
  },
  {
   "cell_type": "code",
   "execution_count": 122,
   "metadata": {},
   "outputs": [],
   "source": [
    "class horse():\n",
    "    def __init__(self, container):\n",
    "        '''Creates a horse object. Will initialise the dataframe to contain the odds data '''\n",
    "        try:\n",
    "            self.name = container.find('a', {'class' : 'popup selTxt'}).text\n",
    "        except:\n",
    "            self.name = container.find('a', {'class' : 'popup selTxt has-tip'}).text\n",
    "        # this also contains jockey form, need to seperate if we are going to use\n",
    "        self.jockey = container.find('div' ,{'class' :'bottom-row jockey'}).text \n",
    "        \n",
    "        # Get the odds\n",
    "        odds = self.get_odds(container)\n",
    "        #start a dataframe of the odds\n",
    "        self.odds = pd.DataFrame(odds,columns = [datetime.now().replace(second = 0, microsecond=0)])\n",
    "        self.latest_odds = self.odds\n",
    "        self.stats = pd.DataFrame(self.get_stats())\n",
    "        \n",
    "                  \n",
    "    def __str__(self):\n",
    "        return f'{self.name} ridden by {self.jockey}'\n",
    "    \n",
    "    def get_odds(self, container):\n",
    "        '''returns a list of the odds for the horse\n",
    "        the container needs to be the row in the main table with the odds info in it.'''\n",
    "        odds = container.findAll('p') # these come as strings of fractional odds\n",
    "        odds_list = []\n",
    "        for odd in odds:\n",
    "            if '/' in odd.text:\n",
    "                numbers = odd.text.split('/')\n",
    "                new_odd = float(numbers[0]) / float(numbers[1]) + 1.0\n",
    "            \n",
    "            elif odd.text == 'SP':\n",
    "                new_odd = None\n",
    "            else:\n",
    "                new_odd = float(odd.text) + 1.0\n",
    "            odds_list.append(new_odd)\n",
    "        return odds_list\n",
    "    \n",
    "    def get_stats(self):\n",
    "        '''Return some basic stats for the horses odds at a certain time'''\n",
    "        mean = self.latest_odds.mean()\n",
    "        std = self.latest_odds.std()\n",
    "        maxx = self.latest_odds.max()\n",
    "        minn = self.latest_odds.min()\n",
    "        self.latest_prob = 1 / mean # use this to try and order the horses and give them a rank.\n",
    "        return pd.Series( (self.latest_prob, mean,std,maxx,minn), index = ['win_prob','mean','std','max','min'], \n",
    "                         name = datetime.now().replace(second = 0, microsecond=0))\n",
    "    \n",
    "    def update_odds(self, container):\n",
    "        '''Appends another column of raw odds and stats to their respective dataframes'''\n",
    "        self.latest_odds = pd.Series(self.get_odds(container),\n",
    "                                     name = datetime.now().replace(second = 0, microsecond=0) )\n",
    "        self.odds = pd.concat([self.odds, self.latest_odds], axis = 1)\n",
    "        self.stats = pd.concat([self.stats, self.get_stats()], axis = 1)\n",
    "                  "
   ]
  },
  {
   "cell_type": "code",
   "execution_count": 119,
   "metadata": {},
   "outputs": [
    {
     "data": {
      "text/plain": [
       "dict_keys(['UK', 'IRE', 'USA', 'AUS'])"
      ]
     },
     "execution_count": 119,
     "metadata": {},
     "output_type": "execute_result"
    }
   ],
   "source": [
    "events.keys()"
   ]
  },
  {
   "cell_type": "code",
   "execution_count": 120,
   "metadata": {},
   "outputs": [
    {
     "data": {
      "text/plain": [
       "dict_keys(['York', 'Yarmouth', 'Newton Abbot', 'Bath', 'Perth'])"
      ]
     },
     "execution_count": 120,
     "metadata": {},
     "output_type": "execute_result"
    }
   ],
   "source": [
    "events['UK'].keys()"
   ]
  },
  {
   "cell_type": "code",
   "execution_count": 121,
   "metadata": {},
   "outputs": [
    {
     "name": "stdout",
     "output_type": "stream",
     "text": [
      "York\n",
      "13:50\n",
      "18\n",
      "Fujaira Prince (2)\n",
      "First Eleven (5)\n",
      "Crystal King (11)\n",
      "Corgi (7)\n",
      "Stealth Fighter (6)\n",
      "Collide (1)\n",
      "Rare Groove (4)\n",
      "Proschema (8)\n",
      "Everything For You (16)\n",
      "Caliburn (3)\n",
      "Byron Flyer (10)\n",
      "Red Galileo (18)\n",
      "Perfect City (14)\n",
      "Indianapolis (13)\n",
      "Twin Star (9)\n",
      "Blakeney Point (17)\n",
      "Sir Chauvelin (15)\n",
      "My Reward (12)\n"
     ]
    }
   ],
   "source": [
    "\n",
    "# This would be the loop structure required to access all the points in the event dict\n",
    "# Run this cell to init the objects\n",
    "for (cc,v) in events.items():\n",
    "    for venue, times in v.items():\n",
    "        for time in times:\n",
    "            x = race(url,'horses', cc, venue, time)\n",
    "            break\n",
    "        break\n",
    "    break\n"
   ]
  },
  {
   "cell_type": "code",
   "execution_count": 92,
   "metadata": {},
   "outputs": [
    {
     "ename": "NameError",
     "evalue": "name 'x' is not defined",
     "output_type": "error",
     "traceback": [
      "\u001b[0;31m---------------------------------------------------------------------------\u001b[0m",
      "\u001b[0;31mNameError\u001b[0m                                 Traceback (most recent call last)",
      "\u001b[0;32m<ipython-input-92-1733cd021dc2>\u001b[0m in \u001b[0;36m<module>\u001b[0;34m\u001b[0m\n\u001b[0;32m----> 1\u001b[0;31m \u001b[0mx\u001b[0m\u001b[0;34m.\u001b[0m\u001b[0mrace_info\u001b[0m\u001b[0;34m\u001b[0m\u001b[0;34m\u001b[0m\u001b[0m\n\u001b[0m",
      "\u001b[0;31mNameError\u001b[0m: name 'x' is not defined"
     ]
    }
   ],
   "source": [
    "x.race_info"
   ]
  },
  {
   "cell_type": "code",
   "execution_count": 42,
   "metadata": {},
   "outputs": [
    {
     "data": {
      "text/plain": [
       "{'Starters': '5f',\n",
       " 'Distance': ' 5',\n",
       " 'Class': '£4033',\n",
       " 'Prize': 'Good to Soft, Soft in places'}"
      ]
     },
     "execution_count": 42,
     "metadata": {},
     "output_type": "execute_result"
    }
   ],
   "source": [
    "x.race_info"
   ]
  },
  {
   "cell_type": "code",
   "execution_count": 15,
   "metadata": {},
   "outputs": [
    {
     "name": "stdout",
     "output_type": "stream",
     "text": [
      "Name: Quiet Place (3) , proability of win: [0.62012569]\n",
      "Name: Auchterarder (1) , proability of win: [0.15069319]\n",
      "Name: Out Of Here (4) , proability of win: [0.12130034]\n",
      "Name: Richard R H B (6) , proability of win: [0.09838646]\n",
      "Name: Bezzas Lad (2) , proability of win: [0.08355615]\n",
      "Name: War of Clans (10) , proability of win: [0.05463287]\n",
      "Name: Corndavon Lad (8) , proability of win: [0.04834655]\n",
      "Name: Geepower (5) , proability of win: [0.0304878]\n",
      "Name: Youthfilly (9) , proability of win: [0.02025932]\n",
      "Name: Bosuns Chair (7) , proability of win: [0.0242483]\n"
     ]
    }
   ],
   "source": [
    "for hor in x.horses:\n",
    "    print(f'Name: {hor.name} , proability of win: {hor.latest_prob.values}')"
   ]
  },
  {
   "cell_type": "code",
   "execution_count": 87,
   "metadata": {},
   "outputs": [],
   "source": [
    "\n",
    "\n",
    "for (cc,v) in events.items():\n",
    "    for venue, times in v.items():\n",
    "        for time in times:\n",
    "            x.get_current_odds()\n",
    "            \n",
    "            # set some sort of pause statement here depending on how long we want between requests\n",
    "            break\n",
    "        break\n",
    "    break"
   ]
  },
  {
   "cell_type": "code",
   "execution_count": null,
   "metadata": {},
   "outputs": [],
   "source": [
    "x.datetime"
   ]
  },
  {
   "cell_type": "code",
   "execution_count": 88,
   "metadata": {},
   "outputs": [
    {
     "data": {
      "text/html": [
       "<div>\n",
       "<style scoped>\n",
       "    .dataframe tbody tr th:only-of-type {\n",
       "        vertical-align: middle;\n",
       "    }\n",
       "\n",
       "    .dataframe tbody tr th {\n",
       "        vertical-align: top;\n",
       "    }\n",
       "\n",
       "    .dataframe thead th {\n",
       "        text-align: right;\n",
       "    }\n",
       "</style>\n",
       "<table border=\"1\" class=\"dataframe\">\n",
       "  <thead>\n",
       "    <tr style=\"text-align: right;\">\n",
       "      <th></th>\n",
       "      <th>2019-05-11 09:48:00</th>\n",
       "    </tr>\n",
       "  </thead>\n",
       "  <tbody>\n",
       "    <tr>\n",
       "      <th>0</th>\n",
       "      <td>7.0</td>\n",
       "    </tr>\n",
       "    <tr>\n",
       "      <th>1</th>\n",
       "      <td>7.0</td>\n",
       "    </tr>\n",
       "    <tr>\n",
       "      <th>2</th>\n",
       "      <td>7.0</td>\n",
       "    </tr>\n",
       "    <tr>\n",
       "      <th>3</th>\n",
       "      <td>7.0</td>\n",
       "    </tr>\n",
       "    <tr>\n",
       "      <th>4</th>\n",
       "      <td>7.5</td>\n",
       "    </tr>\n",
       "    <tr>\n",
       "      <th>5</th>\n",
       "      <td>7.0</td>\n",
       "    </tr>\n",
       "    <tr>\n",
       "      <th>6</th>\n",
       "      <td>7.0</td>\n",
       "    </tr>\n",
       "    <tr>\n",
       "      <th>7</th>\n",
       "      <td>7.0</td>\n",
       "    </tr>\n",
       "    <tr>\n",
       "      <th>8</th>\n",
       "      <td>6.5</td>\n",
       "    </tr>\n",
       "    <tr>\n",
       "      <th>9</th>\n",
       "      <td>7.0</td>\n",
       "    </tr>\n",
       "    <tr>\n",
       "      <th>10</th>\n",
       "      <td>7.0</td>\n",
       "    </tr>\n",
       "    <tr>\n",
       "      <th>11</th>\n",
       "      <td>7.0</td>\n",
       "    </tr>\n",
       "    <tr>\n",
       "      <th>12</th>\n",
       "      <td>7.0</td>\n",
       "    </tr>\n",
       "    <tr>\n",
       "      <th>13</th>\n",
       "      <td>7.0</td>\n",
       "    </tr>\n",
       "    <tr>\n",
       "      <th>14</th>\n",
       "      <td>7.0</td>\n",
       "    </tr>\n",
       "    <tr>\n",
       "      <th>15</th>\n",
       "      <td>7.0</td>\n",
       "    </tr>\n",
       "    <tr>\n",
       "      <th>16</th>\n",
       "      <td>7.0</td>\n",
       "    </tr>\n",
       "    <tr>\n",
       "      <th>17</th>\n",
       "      <td>7.0</td>\n",
       "    </tr>\n",
       "    <tr>\n",
       "      <th>18</th>\n",
       "      <td>7.0</td>\n",
       "    </tr>\n",
       "    <tr>\n",
       "      <th>19</th>\n",
       "      <td>7.0</td>\n",
       "    </tr>\n",
       "    <tr>\n",
       "      <th>20</th>\n",
       "      <td>7.0</td>\n",
       "    </tr>\n",
       "    <tr>\n",
       "      <th>21</th>\n",
       "      <td>7.0</td>\n",
       "    </tr>\n",
       "    <tr>\n",
       "      <th>22</th>\n",
       "      <td>7.0</td>\n",
       "    </tr>\n",
       "    <tr>\n",
       "      <th>23</th>\n",
       "      <td>7.0</td>\n",
       "    </tr>\n",
       "    <tr>\n",
       "      <th>24</th>\n",
       "      <td>7.6</td>\n",
       "    </tr>\n",
       "    <tr>\n",
       "      <th>25</th>\n",
       "      <td>7.8</td>\n",
       "    </tr>\n",
       "    <tr>\n",
       "      <th>26</th>\n",
       "      <td>8.0</td>\n",
       "    </tr>\n",
       "    <tr>\n",
       "      <th>27</th>\n",
       "      <td>7.2</td>\n",
       "    </tr>\n",
       "  </tbody>\n",
       "</table>\n",
       "</div>"
      ],
      "text/plain": [
       "    2019-05-11 09:48:00\n",
       "0                   7.0\n",
       "1                   7.0\n",
       "2                   7.0\n",
       "3                   7.0\n",
       "4                   7.5\n",
       "5                   7.0\n",
       "6                   7.0\n",
       "7                   7.0\n",
       "8                   6.5\n",
       "9                   7.0\n",
       "10                  7.0\n",
       "11                  7.0\n",
       "12                  7.0\n",
       "13                  7.0\n",
       "14                  7.0\n",
       "15                  7.0\n",
       "16                  7.0\n",
       "17                  7.0\n",
       "18                  7.0\n",
       "19                  7.0\n",
       "20                  7.0\n",
       "21                  7.0\n",
       "22                  7.0\n",
       "23                  7.0\n",
       "24                  7.6\n",
       "25                  7.8\n",
       "26                  8.0\n",
       "27                  7.2"
      ]
     },
     "execution_count": 88,
     "metadata": {},
     "output_type": "execute_result"
    }
   ],
   "source": [
    "x.horses[0].odds"
   ]
  },
  {
   "cell_type": "code",
   "execution_count": null,
   "metadata": {},
   "outputs": [],
   "source": [
    "# Cell to run \n",
    "\n",
    "# 1. get days races\n",
    "\n",
    "# 2. Have a while loop running every X number of minutes until after the last race of the day\n",
    "\n",
    "# 3. check time against time race starts, once it is Y number of hours before the start.  \n",
    "#Start collecting odds data.  Odds data will get appended every X minutes as the while loop runs round\n",
    "\n",
    "# 4.  re calculate odds stats (need to see what those are as haven't read the paper fully)\n",
    "\n",
    "# 5. Highlight if we should bet based on betting strategy\n",
    "\n",
    "# 6. Stop grabbing odds data once race has started."
   ]
  },
  {
   "cell_type": "code",
   "execution_count": null,
   "metadata": {},
   "outputs": [],
   "source": []
  },
  {
   "cell_type": "code",
   "execution_count": null,
   "metadata": {},
   "outputs": [],
   "source": []
  },
  {
   "cell_type": "code",
   "execution_count": null,
   "metadata": {},
   "outputs": [],
   "source": []
  },
  {
   "cell_type": "code",
   "execution_count": null,
   "metadata": {},
   "outputs": [],
   "source": []
  },
  {
   "cell_type": "code",
   "execution_count": null,
   "metadata": {},
   "outputs": [],
   "source": []
  },
  {
   "cell_type": "code",
   "execution_count": null,
   "metadata": {},
   "outputs": [],
   "source": []
  },
  {
   "cell_type": "code",
   "execution_count": null,
   "metadata": {},
   "outputs": [],
   "source": []
  }
 ],
 "metadata": {
  "kernelspec": {
   "display_name": "Python 3",
   "language": "python",
   "name": "python3"
  },
  "language_info": {
   "codemirror_mode": {
    "name": "ipython",
    "version": 3
   },
   "file_extension": ".py",
   "mimetype": "text/x-python",
   "name": "python",
   "nbconvert_exporter": "python",
   "pygments_lexer": "ipython3",
   "version": "3.6.7"
  }
 },
 "nbformat": 4,
 "nbformat_minor": 2
}
