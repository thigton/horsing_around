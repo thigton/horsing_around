{
 "cells": [
  {
   "cell_type": "code",
   "execution_count": 150,
   "metadata": {},
   "outputs": [],
   "source": [
    "from urllib.request import Request, urlopen\n",
    "from bs4 import BeautifulSoup as soup\n",
    "import string\n",
    "import itertools\n",
    "import datetime"
   ]
  },
  {
   "cell_type": "code",
   "execution_count": 3,
   "metadata": {},
   "outputs": [],
   "source": [
    "url = 'https://www.oddschecker.com/'"
   ]
  },
  {
   "cell_type": "code",
   "execution_count": null,
   "metadata": {},
   "outputs": [],
   "source": []
  },
  {
   "cell_type": "code",
   "execution_count": 4,
   "metadata": {},
   "outputs": [],
   "source": [
    "country_code = ['UK','IRE','USA','AUS']"
   ]
  },
  {
   "cell_type": "code",
   "execution_count": 5,
   "metadata": {},
   "outputs": [],
   "source": [
    "def get_soup(base_url, sport = 'horses', event_url = None):\n",
    "    '''Uses beautiful soup to get parse the url\n",
    "    base_url = str, www.oddschecker.com/\n",
    "    sport = str, which sport do you want to look at\n",
    "    event_url = str, of the url extension which will take you to the '''\n",
    "    \n",
    "    if sport == 'horses':\n",
    "        sport = 'horse-racing'\n",
    "    \n",
    "    url = base_url + sport\n",
    "    if event_details != None:\n",
    "        url += event_url\n",
    "    \n",
    "    req = Request(url , headers={'User-Agent': 'Mozilla/5.0'})\n",
    "    webpage = urlopen(req).read()\n",
    "    return soup(webpage, \"html.parser\")\n",
    "    "
   ]
  },
  {
   "cell_type": "code",
   "execution_count": 6,
   "metadata": {},
   "outputs": [
    {
     "name": "stdout",
     "output_type": "stream",
     "text": [
      "https://www.oddschecker.com/horse-racing\n"
     ]
    }
   ],
   "source": [
    "page_soup = get_soup(url)\n"
   ]
  },
  {
   "cell_type": "code",
   "execution_count": 7,
   "metadata": {},
   "outputs": [
    {
     "name": "stdout",
     "output_type": "stream",
     "text": [
      "<class 'bs4.BeautifulSoup'>\n"
     ]
    }
   ],
   "source": [
    "print(type(page_soup))"
   ]
  },
  {
   "cell_type": "code",
   "execution_count": 141,
   "metadata": {},
   "outputs": [],
   "source": [
    "def get_races(bsoup, country_codes, sport = 'horses'):\n",
    "    '''Will return a dictionary of the events displayed on www.oddschecker.com\n",
    "        Only does horse_racing atm.\n",
    "        dict structure = events[countrycode][venue][list of event times]\n",
    "        bsoup = the page parse with beautifulsoup4\n",
    "        country_codes = countries you want to get events for\n",
    "        sport = the sport you want''' \n",
    "    events = {code:{} for code in country_codes}\n",
    "    containers = bsoup.findAll('div', {'class' : 'race-details'})\n",
    "    for container in containers:\n",
    "        txt = container.find('div', {'class' : 'venue-details'}).text\n",
    "        \n",
    "        for code in country_codes:\n",
    "            # get country code and venue\n",
    "            if code in txt[:3]:\n",
    "                cc = code\n",
    "                venue = txt.replace(code, '')\n",
    "                break\n",
    "\n",
    "        # get event times   \n",
    "        times = [x for x in container.findAll('div', {'class' : 'racing-time'})]\n",
    "        events[cc][venue] = times\n",
    "        \n",
    "    return events\n"
   ]
  },
  {
   "cell_type": "code",
   "execution_count": 142,
   "metadata": {},
   "outputs": [],
   "source": [
    "events = get_races(page_soup, country_code)"
   ]
  },
  {
   "cell_type": "code",
   "execution_count": 145,
   "metadata": {},
   "outputs": [],
   "source": [
    "class race():\n",
    "    def __init__(self,base_url, sport, cc, venue, time):\n",
    "        '''have a race as a class which we can add horse classes to.'''\n",
    "        self.cc = cc\n",
    "        self.venue = venue,\n",
    "        self.time = time\n",
    "        self.url_ext = '/' + self.venue + '/' + self.time + '/' + 'winner'\n",
    "        \n",
    "        # soup the url\n",
    "        soup = get_soup(base_url, sport, event_url = self.url_ext)\n",
    "        \n",
    "        # get list of horses\n",
    "        \n",
    "        #__init__ the horse class\n",
    "        \n",
    "        # get bookies\n",
    "            # I assume this is the same for all races but maybe not.\n",
    "        \n",
    "    def __str__(self):\n",
    "        return f'{self.venue}, {self.cc} at {self.time}'\n",
    "        \n",
    "    def get_race_date(self,bsoup):\n",
    "        '''placeholder for method to get the date of the race.  \n",
    "        Will either be today or tomorrow on the website but haven''t worked it out how to grab it yet\n",
    "        might work better in get races function'''\n",
    "        pass\n",
    "        \n",
    "        "
   ]
  },
  {
   "cell_type": "code",
   "execution_count": null,
   "metadata": {},
   "outputs": [],
   "source": [
    "def horse():\n",
    "    '''placeholder for a horse class'''\n",
    "    \n",
    "    \n",
    "    def __init__(self,name, soup):\n",
    "        '''will just be a name with '''\n",
    "        pass\n",
    "    def __str__(self,soup):\n",
    "        pass\n",
    "    "
   ]
  },
  {
   "cell_type": "code",
   "execution_count": null,
   "metadata": {},
   "outputs": [],
   "source": []
  },
  {
   "cell_type": "code",
   "execution_count": null,
   "metadata": {},
   "outputs": [],
   "source": []
  },
  {
   "cell_type": "code",
   "execution_count": null,
   "metadata": {},
   "outputs": [],
   "source": []
  },
  {
   "cell_type": "code",
   "execution_count": 122,
   "metadata": {},
   "outputs": [],
   "source": []
  },
  {
   "cell_type": "code",
   "execution_count": null,
   "metadata": {},
   "outputs": [],
   "source": []
  },
  {
   "cell_type": "code",
   "execution_count": null,
   "metadata": {},
   "outputs": [],
   "source": []
  },
  {
   "cell_type": "code",
   "execution_count": null,
   "metadata": {},
   "outputs": [],
   "source": []
  },
  {
   "cell_type": "code",
   "execution_count": null,
   "metadata": {},
   "outputs": [],
   "source": []
  },
  {
   "cell_type": "code",
   "execution_count": null,
   "metadata": {},
   "outputs": [],
   "source": []
  },
  {
   "cell_type": "code",
   "execution_count": null,
   "metadata": {},
   "outputs": [],
   "source": []
  }
 ],
 "metadata": {
  "kernelspec": {
   "display_name": "Python 3",
   "language": "python",
   "name": "python3"
  },
  "language_info": {
   "codemirror_mode": {
    "name": "ipython",
    "version": 3
   },
   "file_extension": ".py",
   "mimetype": "text/x-python",
   "name": "python",
   "nbconvert_exporter": "python",
   "pygments_lexer": "ipython3",
   "version": "3.7.1"
  }
 },
 "nbformat": 4,
 "nbformat_minor": 2
}
