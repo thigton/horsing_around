{
 "cells": [
  {
   "cell_type": "code",
   "execution_count": 2,
   "metadata": {},
   "outputs": [],
   "source": [
    "from urllib.request import Request, urlopen\n",
    "from bs4 import BeautifulSoup as soup\n",
    "import string\n",
    "import itertools"
   ]
  },
  {
   "cell_type": "code",
   "execution_count": 3,
   "metadata": {},
   "outputs": [],
   "source": [
    "url = 'https://www.oddschecker.com/'"
   ]
  },
  {
   "cell_type": "code",
   "execution_count": null,
   "metadata": {},
   "outputs": [],
   "source": []
  },
  {
   "cell_type": "code",
   "execution_count": 4,
   "metadata": {},
   "outputs": [],
   "source": [
    "country_code = ['UK','IRE','USA','AUS']"
   ]
  },
  {
   "cell_type": "code",
   "execution_count": 5,
   "metadata": {},
   "outputs": [],
   "source": [
    "def get_soup(base_url, sport = 'horses', event_details = None):\n",
    "    '''Uses beautiful soup to get parse the url\n",
    "    base_url = str, www.oddschecker.com/\n",
    "    sport = str, which sport do you want to look at\n",
    "    event_details = str, any details which will get to the right url'''\n",
    "    \n",
    "    if sport == 'horses':\n",
    "        sport = 'horse-racing'\n",
    "        \n",
    "    if event_details == None:\n",
    "        url = base_url + sport\n",
    "    else:\n",
    "        pass\n",
    "    print(url)\n",
    "    \n",
    "    req = Request(url , headers={'User-Agent': 'Mozilla/5.0'})\n",
    "    webpage = urlopen(req).read()\n",
    "    return soup(webpage, \"html.parser\")\n",
    "    "
   ]
  },
  {
   "cell_type": "code",
   "execution_count": 6,
   "metadata": {},
   "outputs": [
    {
     "name": "stdout",
     "output_type": "stream",
     "text": [
      "https://www.oddschecker.com/horse-racing\n"
     ]
    }
   ],
   "source": [
    "page_soup = get_soup(url)\n"
   ]
  },
  {
   "cell_type": "code",
   "execution_count": 7,
   "metadata": {},
   "outputs": [
    {
     "name": "stdout",
     "output_type": "stream",
     "text": [
      "<class 'bs4.BeautifulSoup'>\n"
     ]
    }
   ],
   "source": [
    "print(type(page_soup))"
   ]
  },
  {
   "cell_type": "code",
   "execution_count": 126,
   "metadata": {},
   "outputs": [],
   "source": [
    "def get_races(bsoup, country_codes, sport = 'horses'):\n",
    "    '''Will return a dictionary of the events displayed on www.oddschecker.com\n",
    "        Only does horse_racing atm.\n",
    "        dict structure = events[countrycode][venue][list of event times]\n",
    "        bsoup = the page parse with beautifulsoup4\n",
    "        country_codes = countries you want to get events for\n",
    "        sport = the sport you want''' \n",
    "    events = {code:{} for code in country_codes}\n",
    "    containers = bsoup.findAll('div', {'class' : 'race-details'})\n",
    "    for container in containers:\n",
    "        txt = container.find('div', {'class' : 'venue-details'}).text\n",
    "        \n",
    "        for code in country_codes:\n",
    "            # get country code and venue\n",
    "            if code in txt[:3]:\n",
    "                cc = code\n",
    "                venue = txt.replace(code, '')\n",
    "                break\n",
    "\n",
    "        # get event times   \n",
    "        times = [x.text for x in container.findAll('div', {'class' : 'racing-time'})]\n",
    "        \n",
    "        events[cc][venue] = times\n",
    "        \n",
    "    return events\n"
   ]
  },
  {
   "cell_type": "code",
   "execution_count": null,
   "metadata": {},
   "outputs": [],
   "source": [
    "def get_race_odds(event_dict):\n",
    "    '''returns some data structure with the all the odds for the race'''"
   ]
  },
  {
   "cell_type": "code",
   "execution_count": null,
   "metadata": {},
   "outputs": [],
   "source": [
    "events = get_races(page_soup, country_code)"
   ]
  },
  {
   "cell_type": "code",
   "execution_count": null,
   "metadata": {},
   "outputs": [],
   "source": []
  },
  {
   "cell_type": "code",
   "execution_count": null,
   "metadata": {},
   "outputs": [],
   "source": []
  },
  {
   "cell_type": "code",
   "execution_count": 122,
   "metadata": {},
   "outputs": [],
   "source": []
  },
  {
   "cell_type": "code",
   "execution_count": null,
   "metadata": {},
   "outputs": [],
   "source": []
  },
  {
   "cell_type": "code",
   "execution_count": null,
   "metadata": {},
   "outputs": [],
   "source": []
  },
  {
   "cell_type": "code",
   "execution_count": null,
   "metadata": {},
   "outputs": [],
   "source": []
  },
  {
   "cell_type": "code",
   "execution_count": null,
   "metadata": {},
   "outputs": [],
   "source": []
  },
  {
   "cell_type": "code",
   "execution_count": null,
   "metadata": {},
   "outputs": [],
   "source": []
  },
  {
   "cell_type": "code",
   "execution_count": null,
   "metadata": {},
   "outputs": [],
   "source": []
  }
 ],
 "metadata": {
  "kernelspec": {
   "display_name": "Python 3",
   "language": "python",
   "name": "python3"
  },
  "language_info": {
   "codemirror_mode": {
    "name": "ipython",
    "version": 3
   },
   "file_extension": ".py",
   "mimetype": "text/x-python",
   "name": "python",
   "nbconvert_exporter": "python",
   "pygments_lexer": "ipython3",
   "version": "3.6.7"
  }
 },
 "nbformat": 4,
 "nbformat_minor": 2
}
