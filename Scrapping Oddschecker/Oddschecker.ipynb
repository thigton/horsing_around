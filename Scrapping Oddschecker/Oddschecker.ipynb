{
 "cells": [
  {
   "cell_type": "code",
   "execution_count": 85,
   "metadata": {},
   "outputs": [],
   "source": [
    "from urllib.request import Request, urlopen\n",
    "from bs4 import BeautifulSoup as soup\n",
    "import string\n",
    "import itertools\n",
    "import datetime"
   ]
  },
  {
   "cell_type": "code",
   "execution_count": 86,
   "metadata": {},
   "outputs": [],
   "source": [
    "url = 'https://www.oddschecker.com/'"
   ]
  },
  {
   "cell_type": "code",
   "execution_count": null,
   "metadata": {},
   "outputs": [],
   "source": []
  },
  {
   "cell_type": "code",
   "execution_count": 87,
   "metadata": {},
   "outputs": [],
   "source": [
    "country_code = ['UK','IRE','USA','AUS']"
   ]
  },
  {
   "cell_type": "code",
   "execution_count": 117,
   "metadata": {},
   "outputs": [],
   "source": [
    "def get_soup(base_url, sport = 'horses', event_url = None):\n",
    "    '''Uses beautiful soup to get parse the url\n",
    "    base_url = str, www.oddschecker.com/\n",
    "    sport = str, which sport do you want to look at\n",
    "    event_url = str, of the url extension which will take you to the '''\n",
    "    \n",
    "    if sport == 'horses':\n",
    "        sport = 'horse-racing'\n",
    "    \n",
    "    url = base_url + sport\n",
    "    if event_url != None:\n",
    "        url += event_url\n",
    "    \n",
    "    req = Request(url , headers={'User-Agent': 'Mozilla/5.0'})\n",
    "    webpage = urlopen(req).read()\n",
    "    return soup(webpage, \"html.parser\")\n",
    "    "
   ]
  },
  {
   "cell_type": "code",
   "execution_count": 118,
   "metadata": {},
   "outputs": [],
   "source": [
    "page_soup = get_soup(url)\n"
   ]
  },
  {
   "cell_type": "code",
   "execution_count": 119,
   "metadata": {},
   "outputs": [
    {
     "name": "stdout",
     "output_type": "stream",
     "text": [
      "<class 'bs4.BeautifulSoup'>\n"
     ]
    }
   ],
   "source": [
    "print(type(page_soup))"
   ]
  },
  {
   "cell_type": "code",
   "execution_count": 120,
   "metadata": {},
   "outputs": [],
   "source": [
    "def get_races(bsoup, country_codes, sport = 'horses'):\n",
    "    '''Will return a dictionary of the events displayed on www.oddschecker.com\n",
    "        Only does horse_racing atm.\n",
    "        dict structure = events[countrycode][venue][list of event times]\n",
    "        bsoup = the page parse with beautifulsoup4\n",
    "        country_codes = countries you want to get events for\n",
    "        sport = the sport you want''' \n",
    "    events = {code:{} for code in country_codes}\n",
    "    containers = bsoup.findAll('div', {'class' : 'race-details'})\n",
    "    for container in containers:\n",
    "        txt = container.find('div', {'class' : 'venue-details'}).text\n",
    "        \n",
    "        for code in country_codes:\n",
    "            # get country code and venue\n",
    "            if code in txt[:3]:\n",
    "                cc = code\n",
    "                venue = txt.replace(code, '')\n",
    "                break\n",
    "\n",
    "        # get event times   \n",
    "        times = [x.text for x in container.findAll('div', {'class' : 'racing-time'})]\n",
    "        events[cc][venue] = times\n",
    "        \n",
    "    return events\n"
   ]
  },
  {
   "cell_type": "code",
   "execution_count": 121,
   "metadata": {},
   "outputs": [],
   "source": [
    "events = get_races(page_soup, country_code)"
   ]
  },
  {
   "cell_type": "code",
   "execution_count": 122,
   "metadata": {},
   "outputs": [],
   "source": [
    "class race():\n",
    "    def __init__(self,base_url, sport, cc, venue, time):\n",
    "        '''have a race as a class which we can add horse classes to.'''\n",
    "        self.cc = cc\n",
    "        self.venue = venue\n",
    "        self.time = time\n",
    "        self.url_ext = '/' + self.venue + '/' + self.time + '/' + 'winner'\n",
    "        # soup the url\n",
    "        soup = get_soup(base_url, sport, event_url = self.url_ext)\n",
    "        \n",
    "        # These containers are the rows in the table on the url\n",
    "        containers = soup.findAll('tr', {'class' : 'diff-row evTabRow bc'})\n",
    "#         print(len(containers))\n",
    "        # init horse class\n",
    "        self.horses = [horse(container) for container in containers] \n",
    "    \n",
    "        \n",
    "        \n",
    "    def __str__(self):\n",
    "        return f'{self.venue}, {self.cc} at {self.time}'\n",
    "        \n",
    "    def get_race_date(self,bsoup):\n",
    "        '''placeholder for method to get the date of the race.  \n",
    "        Will either be today or tomorrow on the website but haven''t worked it out how to grab it yet\n",
    "        might work better in get races function'''\n",
    "        pass\n",
    "        \n",
    "        "
   ]
  },
  {
   "cell_type": "code",
   "execution_count": 251,
   "metadata": {},
   "outputs": [],
   "source": [
    "class horse():\n",
    "    def __init__(self, container):\n",
    "        ''''''\n",
    "#         print(container)\n",
    "        self.name = container.find('a', {'class' : 'popup selTxt'}).text\n",
    "        self.jockey = container.find('div' ,{'class' :'bottom-row jockey'}).text\n",
    "        print(self.name)\n",
    "        print(self.jockey)\n",
    "    def __str__(self,soup):\n",
    "        pass\n",
    "    "
   ]
  },
  {
   "cell_type": "code",
   "execution_count": 252,
   "metadata": {},
   "outputs": [
    {
     "data": {
      "text/plain": [
       "{'Huntingdon': ['13:40', '14:10', '14:45', '15:20', '15:55', '16:25', '16:55'],\n",
       " 'Chester': ['13:50', '14:25', '15:00', '15:35', '16:05', '16:35', '17:05'],\n",
       " 'Worcester': ['14:00', '14:35', '15:10', '15:45', '16:15', '16:45', '17:20'],\n",
       " 'Wincanton': ['17:15', '17:50', '18:20', '18:50', '19:20', '19:50', '20:20'],\n",
       " 'Chelmsford City': ['22:15', '22:45', '23:15', '23:45']}"
      ]
     },
     "execution_count": 252,
     "metadata": {},
     "output_type": "execute_result"
    }
   ],
   "source": [
    "events['UK']"
   ]
  },
  {
   "cell_type": "code",
   "execution_count": 253,
   "metadata": {},
   "outputs": [
    {
     "data": {
      "text/plain": [
       "dict_keys(['Huntingdon', 'Chester', 'Worcester', 'Wincanton', 'Chelmsford City'])"
      ]
     },
     "execution_count": 253,
     "metadata": {},
     "output_type": "execute_result"
    }
   ],
   "source": [
    "events['UK'].keys()"
   ]
  },
  {
   "cell_type": "code",
   "execution_count": 254,
   "metadata": {},
   "outputs": [
    {
     "name": "stdout",
     "output_type": "stream",
     "text": [
      "Welsh Saint\n",
      "Nico de Boinville421-\n",
      "The Butcher Said\n",
      "A P Heskin36/62-\n",
      "Jackson Hill\n",
      "R Johnson2/344-\n",
      "Somekindofstar\n",
      "L P Aspell2/F-\n",
      "Mister Murchan\n",
      "J M Davies/3P15-\n",
      "Speedy Gonzalez\n",
      "Brendan Powell40/38-\n"
     ]
    }
   ],
   "source": [
    "for (cc,v) in events.items():\n",
    "    for venue, times in v.items():\n",
    "        for time in times:\n",
    "            x = race(url,'horses', cc, venue, time)            \n",
    "            break\n",
    "        break\n",
    "    break\n",
    "\n",
    "#         print(cc)\n",
    "#         print(venue)\n",
    "#         print(times)"
   ]
  },
  {
   "cell_type": "code",
   "execution_count": null,
   "metadata": {},
   "outputs": [],
   "source": [
    "# Cell to run \n",
    "\n",
    "# 1. get days races\n",
    "\n",
    "# 2. Have a while loop running every X number of minutes until after the last race of the day\n",
    "\n",
    "# 3. check time against time race starts, once it is Y number of hours before the start.  \n",
    "#Start collecting odds data.  Odds data will get appended every X minutes as the while loop runs round\n",
    "\n",
    "# 4.  re calculate odds stats (need to see what those are as haven't read the paper fully)\n",
    "\n",
    "# 5. Highlight if we should bet based on betting strategy\n",
    "\n",
    "# 6. Stop grabbing odds data once race has started."
   ]
  },
  {
   "cell_type": "code",
   "execution_count": null,
   "metadata": {},
   "outputs": [],
   "source": []
  },
  {
   "cell_type": "code",
   "execution_count": null,
   "metadata": {},
   "outputs": [],
   "source": []
  },
  {
   "cell_type": "code",
   "execution_count": 122,
   "metadata": {},
   "outputs": [],
   "source": []
  },
  {
   "cell_type": "code",
   "execution_count": null,
   "metadata": {},
   "outputs": [],
   "source": []
  },
  {
   "cell_type": "code",
   "execution_count": null,
   "metadata": {},
   "outputs": [],
   "source": []
  },
  {
   "cell_type": "code",
   "execution_count": null,
   "metadata": {},
   "outputs": [],
   "source": []
  },
  {
   "cell_type": "code",
   "execution_count": null,
   "metadata": {},
   "outputs": [],
   "source": []
  },
  {
   "cell_type": "code",
   "execution_count": null,
   "metadata": {},
   "outputs": [],
   "source": []
  },
  {
   "cell_type": "code",
   "execution_count": null,
   "metadata": {},
   "outputs": [],
   "source": []
  }
 ],
 "metadata": {
  "kernelspec": {
   "display_name": "Python 3",
   "language": "python",
   "name": "python3"
  },
  "language_info": {
   "codemirror_mode": {
    "name": "ipython",
    "version": 3
   },
   "file_extension": ".py",
   "mimetype": "text/x-python",
   "name": "python",
   "nbconvert_exporter": "python",
   "pygments_lexer": "ipython3",
   "version": "3.7.1"
  }
 },
 "nbformat": 4,
 "nbformat_minor": 2
}
